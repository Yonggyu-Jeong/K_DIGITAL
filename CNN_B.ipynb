{
 "cells": [
  {
   "cell_type": "code",
   "execution_count": null,
   "metadata": {
    "id": "QypduES60hdf"
   },
   "outputs": [],
   "source": [
    "import pandas as pd\n",
    "import numpy as np\n",
    "from scipy.io import arff\n",
    "import tensorflow\n",
    "from tensorflow import keras\n",
    "import sys\n",
    "from sklearn.model_selection import train_test_split\n",
    "import matplotlib.pyplot as plt\n",
    "import seaborn as sns\n",
    "import warnings\n",
    "from tensorflow.keras.models import Sequential\n",
    "from tensorflow.keras.layers import Dense, Conv1D, Flatten, GlobalMaxPooling1D\n",
    "from keras.layers import BatchNormalization, ReLU\n",
    "import tensorflow.keras.optimizers"
   ]
  },
  {
   "cell_type": "code",
   "execution_count": null,
   "metadata": {
    "id": "L9vrnrxM0-7C"
   },
   "outputs": [],
   "source": [
    "\n",
    "data_test = pd.read_csv(\"C:\\\\Users\\\\YongGyu\\\\OneDrive - 한국산업기술대학교\\\\문서\\카카오톡 받은 파일\\\\FordB_TEST.csv\")\n",
    "data_train = pd.read_csv(\"C:\\\\Users\\\\YongGyu\\\\OneDrive - 한국산업기술대학교\\\\문서\\카카오톡 받은 파일\\\\ford_b_train_normalization.csv\")\n",
    "\n",
    "x_train_temp = data_train.iloc[:,:-1]\n",
    "y_train_temp = data_train.iloc[:,-1]\n",
    "y_test = data_test.iloc[:,:-1]\n",
    "y_test = data_test.iloc[:,-1]\n",
    "\n",
    "x_train_temp.head()\n",
    "\n",
    "n_x = x_train_temp[y_train_temp == 1]\n",
    "an_x = x_train_temp[y_train_temp == 0]\n",
    "n_y = y_train_temp[y_train_temp == 1]\n",
    "an_y = y_train_temp[y_train_temp == 0]\n",
    "\n",
    "ind_nx = int(n_x.shape[0]*0.8)\n",
    "ind_ny = int(n_y.shape[0] * 0.8)\n",
    "ind_anx = int(an_x.shape[0] * 0.8)\n",
    "ind_any = int(an_y.shape[0] * 0.8)\n",
    "\n",
    "x_train = np.concatenate((n_x[:ind_nx], an_x[:ind_anx]), axis = 0)\n",
    "x_valid = np.concatenate((n_x[:ind_nx], an_x[:ind_anx]), axis = 0)\n",
    "y_train = np.concatenate((n_y[:ind_ny], an_y[:ind_any]), axis = 0)\n",
    "y_valid = np.concatenate((n_y[:ind_ny], an_y[:ind_any]), axis = 0)\n",
    "\n",
    "x_test = data_test.iloc[:,:-1]\n",
    "y_test = data_test.iloc[:,-1]\n"
   ]
  },
  {
   "cell_type": "code",
   "execution_count": null,
   "metadata": {
    "colab": {
     "base_uri": "https://localhost:8080/",
     "height": 284
    },
    "id": "rU4txeJE4JZF",
    "outputId": "7be73225-2e3d-4efd-f6ac-61f2494ec9a6"
   },
   "outputs": [],
   "source": [
    "import random\n",
    "\n",
    "labels = np.unique(np.concatenate((y_train, y_test), axis = 0))\n",
    "\n",
    "plt.figure(figsize = (10, 4))\n",
    "\n",
    "for c in labels:\n",
    "  x_train_n = x_train[y_train == c]\n",
    "  if c == -1 : c = c+1\n",
    "  t = random.randint(0, x_train_n.shape[0])\n",
    "  plt.scatter(range(0, 500), x_train_n[t], label ='class' + str(int(c)), marker = 'o', s=5)\n",
    "\n",
    "plt.legend(loc='lower right')\n",
    "plt.xlabel(\"sensor\", fontsize = 15)\n",
    "plt.ylabel(\"sensor value\", fontsize = 15)\n",
    "plt.show()"
   ]
  },
  {
   "cell_type": "code",
   "execution_count": null,
   "metadata": {
    "colab": {
     "base_uri": "https://localhost:8080/",
     "height": 513
    },
    "id": "OC8JrOaYDXTa",
    "outputId": "e0990a1b-fe11-419e-b639-fec1467d668f"
   },
   "outputs": [],
   "source": [
    "num = random.randint(0,500)\n",
    "plt.figure(figsize = (15, 8))\n",
    "plt.plot(x_train[:, num])\n",
    "plt.title(\"sensor : {}\".format(num))\n",
    "plt.xlabel(\"Time\")\n",
    "plt.ylabel(\"sensor value\")\n",
    "plt.show()"
   ]
  },
  {
   "cell_type": "code",
   "execution_count": null,
   "metadata": {
    "colab": {
     "base_uri": "https://localhost:8080/",
     "height": 295
    },
    "id": "Y8zRdb2TFdrN",
    "outputId": "5be6e8a1-7f50-4b4b-9dd4-0d6d821ae2dc"
   },
   "outputs": [],
   "source": [
    "time_t = random.randint(0, x_train_n.shape[0])\n",
    "plt.scatter(range(0, x_train_n.shape[1]), x_train_n[338],\n",
    "            marker = 'o',s=5, c='b')\n",
    "\n",
    "plt.title(\"time : {}\".format(338))\n",
    "plt.xlabel(\"sensor\")\n",
    "plt.ylabel(\"sensor value\")\n",
    "plt.show()"
   ]
  },
  {
   "cell_type": "code",
   "execution_count": null,
   "metadata": {
    "colab": {
     "base_uri": "https://localhost:8080/",
     "height": 283
    },
    "id": "us3SidkF4y0o",
    "outputId": "59038f85-a75c-475d-9ff8-97c1d641411c"
   },
   "outputs": [],
   "source": [
    "sns.countplot(x=y_train).set(ylim=(0,1500))"
   ]
  },
  {
   "cell_type": "code",
   "execution_count": null,
   "metadata": {
    "colab": {
     "base_uri": "https://localhost:8080/",
     "height": 283
    },
    "id": "Fkbm1XIK5NkM",
    "outputId": "489909e8-dbeb-4cb8-bc73-670d073162e2"
   },
   "outputs": [],
   "source": [
    "sns.countplot(x=y_valid).set(ylim=(0,1500))"
   ]
  },
  {
   "cell_type": "code",
   "execution_count": null,
   "metadata": {
    "colab": {
     "base_uri": "https://localhost:8080/",
     "height": 297
    },
    "id": "s4jub6L95TSi",
    "outputId": "c18edc96-1abb-40d0-fafe-eb0aacda105c"
   },
   "outputs": [],
   "source": [
    "sns.countplot(x=y_test).set(ylim=(0,1500))"
   ]
  },
  {
   "cell_type": "code",
   "execution_count": null,
   "metadata": {
    "id": "3cc_qgnt4OZT"
   },
   "outputs": [],
   "source": [
    "\"\"\"\n",
    "corr_df = X.corr()\n",
    "corr_df = corr_df.apply(lambda x: round(x ,2))\n",
    "corr_df\n",
    "\n",
    "pd.options.display.max_rows = 60\n",
    "pd.options.display.max_columns = 20\n",
    "\"\"\"\n"
   ]
  },
  {
   "cell_type": "code",
   "execution_count": null,
   "metadata": {
    "colab": {
     "base_uri": "https://localhost:8080/"
    },
    "id": "8Rxgmhmp4TP9",
    "outputId": "f4500169-ef8c-4d27-a884-92bed37e134f"
   },
   "outputs": [],
   "source": [
    "\"\"\"\n",
    "y_train[y_train == 0] = 0\n",
    "y_valid[y_valid == 0] = 0\n",
    "y_test[y_test == 0] = 0\n",
    "\n",
    "y_train[y_train == 1] = 1\n",
    "y_valid[y_valid == 1] = 1\n",
    "y_test[y_test == 1] = 1\n",
    "\"\"\""
   ]
  },
  {
   "cell_type": "code",
   "execution_count": null,
   "metadata": {
    "id": "fQdDAK4O4bUs"
   },
   "outputs": [],
   "source": [
    "from sklearn.preprocessing import StandardScaler\n",
    "std = StandardScaler()\n",
    "std.fit(x_train)\n",
    "\n",
    "x_train = std.transform(x_train)\n",
    "x_valid = std.transform(x_valid)\n",
    "\n",
    "x_train.shape\n",
    "x_train\n",
    "\n",
    "std = StandardScaler()\n",
    "std.fit(x_test)\n",
    "\n",
    "x_test = std.transform(x_test)"
   ]
  },
  {
   "cell_type": "code",
   "execution_count": null,
   "metadata": {
    "id": "bxhI_Mt-7tar"
   },
   "outputs": [],
   "source": [
    "x_train_c = np.expand_dims(x_train, -1)\n",
    "x_valid_c = np.expand_dims(x_valid, -1)\n",
    "x_test_c = np.expand_dims(x_test, -1)\n"
   ]
  },
  {
   "cell_type": "code",
   "execution_count": null,
   "metadata": {
    "id": "CUGalG0a7tXH"
   },
   "outputs": [],
   "source": [
    "y_train = y_train.astype(np.float32)\n",
    "y_valid = y_valid.astype(np.float32)\n",
    "y_test = y_test.astype(np.float32)"
   ]
  },
  {
   "cell_type": "code",
   "execution_count": null,
   "metadata": {
    "colab": {
     "base_uri": "https://localhost:8080/",
     "height": 1000
    },
    "id": "qePPnZd04jkO",
    "outputId": "7a1cdaa8-e3cb-4def-ed45-ebeca41b386b"
   },
   "outputs": [],
   "source": [
    "from tensorflow.keras.callbacks import Callback, EarlyStopping, ModelCheckpoint, ReduceLROnPlateau\n",
    "from sklearn.model_selection import GridSearchCV, train_test_split\n",
    "\n",
    " \n",
    "model = Sequential()\n",
    "\n",
    "model.add(Conv1D(filters = 64, kernel_size = 3, padding = 'same'))\n",
    "model.add(BatchNormalization())\n",
    "model.add(ReLU())\n",
    "\n",
    "model.add(Conv1D(filters = 64, kernel_size = 3, padding = 'same'))\n",
    "model.add(BatchNormalization())\n",
    "model.add(ReLU())\n",
    "\n",
    "model.add(Conv1D(filters = 64, kernel_size = 3, padding = 'same'))\n",
    "model.add(BatchNormalization())\n",
    "model.add(ReLU())\n",
    "\n",
    "model.add(GlobalMaxPooling1D())\n",
    "model.add(Dense(2, activation = 'softmax'))\n",
    "model.compile(optimizer = 'adam', loss = 'sparse_categorical_crossentropy', metrics = ['sparse_categorical_accuracy'])\n",
    "early_stopping = EarlyStopping(monitor='val_loss', patience = 50, verbose = 1)\n",
    "model_checkpoint = ModelCheckpoint(filepath='./{epoch}-{val_loss:.2f}-{val_sparse_categorical_accuracy:.2f}', monitor='val_loss', save_best_only=True, verbose=1)\n",
    "reduce_lronplateau = ReduceLROnPlateau(monitor = 'val_loss', factor = 0.5, patience = 20, min_lr = 0.00001)\n",
    "\n"
   ]
  },
  {
   "cell_type": "code",
   "execution_count": null,
   "metadata": {},
   "outputs": [],
   "source": [
    "history = model.fit(x_train_c, y_train,\n",
    "                    batch_size = 64,\n",
    "                    epochs = 100,\n",
    "                    callbacks=[early_stopping, model_checkpoint],\n",
    "                    validation_data = (x_valid_c, y_valid), verbose = 1)\n"
   ]
  },
  {
   "cell_type": "code",
   "execution_count": null,
   "metadata": {
    "colab": {
     "base_uri": "https://localhost:8080/",
     "height": 279
    },
    "id": "CBUiYdA24p37",
    "outputId": "4f03196f-0bda-4e63-8ae2-b90dcf810607"
   },
   "outputs": [],
   "source": [
    "plt.plot(history.history['loss'])\n",
    "plt.plot(history.history['val_loss'])\n",
    "plt.xlabel('epoch')\n",
    "plt.ylabel('loss')\n",
    "plt.legend(['train','val'])\n",
    "plt.show()"
   ]
  },
  {
   "cell_type": "code",
   "execution_count": null,
   "metadata": {
    "colab": {
     "base_uri": "https://localhost:8080/",
     "height": 279
    },
    "id": "B3nPrIH8T0Bt",
    "outputId": "71c91229-e239-4dcb-eb28-4347131ba2b7",
    "scrolled": true
   },
   "outputs": [],
   "source": [
    "plt.plot(history.history['sparse_categorical_accuracy'])\n",
    "plt.plot(history.history['val_sparse_categorical_accuracy'])\n",
    "plt.xlabel('epoch')\n",
    "plt.ylabel('acc')\n",
    "plt.legend(['train', 'val'])\n",
    "plt.show()"
   ]
  },
  {
   "cell_type": "code",
   "execution_count": null,
   "metadata": {
    "colab": {
     "base_uri": "https://localhost:8080/"
    },
    "id": "yQb2ZWZNo1rP",
    "outputId": "5e9d3919-6827-4f7d-a1d9-5c21662033ed"
   },
   "outputs": [],
   "source": [
    "model.evaluate(x_valid_c, y_valid)"
   ]
  },
  {
   "cell_type": "code",
   "execution_count": null,
   "metadata": {
    "colab": {
     "base_uri": "https://localhost:8080/"
    },
    "id": "dLmybzI-FoPG",
    "outputId": "159f78d4-2b93-4460-f4de-b5551c07b365"
   },
   "outputs": [],
   "source": [
    "y_test_ndarray = y_test.to_numpy() \n",
    "scores = model.evaluate(x_test_c, y_test_ndarray)\n",
    "\n",
    "print('Test Acc', scores[1])\n",
    "print('Test Loss', scores[0])\n",
    "print(model.metrics_names[1], scores[1]*100)"
   ]
  },
  {
   "cell_type": "code",
   "execution_count": 25,
   "metadata": {
    "colab": {
     "base_uri": "https://localhost:8080/",
     "height": 297
    },
    "id": "V_XfLpALmlSo",
    "outputId": "e48eb3e9-fb27-4cbf-a027-984533dc5bcf"
   },
   "outputs": [
    {
     "name": "stdout",
     "output_type": "stream",
     "text": [
      "42/42 [==============================] - 0s 7ms/step\n"
     ]
    },
    {
     "data": {
      "image/png": "[encoded data removed]",
      "text/plain": [
       "<Figure size 432x288 with 1 Axes>"
      ]
     },
     "metadata": {
      "needs_background": "light"
     },
     "output_type": "display_data"
    }
   ],
   "source": [
    "from sklearn.metrics import roc_curve, auc\n",
    "\n",
    "predict_prob = model.predict(x_test_c)\n",
    "predict_classes = np.argmax(predict_prob, axis = 1)\n",
    "\n",
    "fprs, tprs, thredshold = roc_curve(y_test, predict_classes)\n",
    "roc_auc = auc(fprs,tprs)\n",
    "\n",
    "precisions, recalls, thredsholds = roc_curve(y_test, predict_classes)\n",
    "plt.plot([0,1], [0,1], 'k--')\n",
    "plt.plot(fprs, tprs, label='ROC curve (area = %0.2f)' % roc_auc)\n",
    "\n",
    "plt.xlabel('FPR')\n",
    "plt.ylabel('TPR')\n",
    "plt.title('ROC')\n",
    "plt.legend(loc=\"lower right\")\n",
    "plt.grid()\n",
    "plt.show()"
   ]
  },
  {
   "cell_type": "code",
   "execution_count": null,
   "metadata": {},
   "outputs": [],
   "source": [
    "from sklearn.metrics import classification_report\n",
    "acc = accuracy_score(y_test, predict_classes)\n",
    "print('accuracy_score : ',acc)\n",
    "\n",
    "print(classification_report(y_test, predict_classes))"
   ]
  },
  {
   "cell_type": "code",
   "execution_count": null,
   "metadata": {
    "colab": {
     "base_uri": "https://localhost:8080/",
     "height": 348
    },
    "id": "k7v51Vk-OQga",
    "outputId": "7648beb1-d44d-40bb-ec30-92172b1cb297"
   },
   "outputs": [],
   "source": [
    "from pandas.core.frame import itertools\n",
    "from sklearn.metrics import confusion_matrix\n",
    "\n",
    "cf_matrix = confusion_matrix(y_test, predict_classes)\n",
    "ax = sns.heatmap(cf_matrix, annot=True, fmt='d',)\n",
    "ax.set_xlabel(\"Predicted Diagnosis\", fontsize = 14, labelpad = 20)\n",
    "ax.xaxis.set_ticklabels(['Negative', 'Positive'])\n",
    "\n",
    "ax.set_ylabel(\"Actual Diagnosis\", fontsize = 14, labelpad = 20)\n",
    "ax.yaxis.set_ticklabels(['Negative', 'Positive'])\n",
    "\n",
    "ax.set_title(\"Confusion Matrix\", fontsize = 14, pad = 20)"
   ]
  },
  {
   "cell_type": "code",
   "execution_count": null,
   "metadata": {
    "colab": {
     "base_uri": "https://localhost:8080/"
    },
    "id": "EO9Eset6Ojv_",
    "outputId": "a29564c1-9ef1-49c0-c93d-ac187ccf7b47"
   },
   "outputs": [],
   "source": [
    "print(cf_matrix)"
   ]
  },
  {
   "cell_type": "code",
   "execution_count": null,
   "metadata": {},
   "outputs": [],
   "source": []
  }
 ],
 "metadata": {
  "colab": {
   "provenance": []
  },
  "kernelspec": {
   "display_name": "Python 3 (ipykernel)",
   "language": "python",
   "name": "python3"
  },
  "language_info": {
   "codemirror_mode": {
    "name": "ipython",
    "version": 3
   },
   "file_extension": ".py",
   "mimetype": "text/x-python",
   "name": "python",
   "nbconvert_exporter": "python",
   "pygments_lexer": "ipython3",
   "version": "3.9.7"
  }
 },
 "nbformat": 4,
 "nbformat_minor": 1
}
