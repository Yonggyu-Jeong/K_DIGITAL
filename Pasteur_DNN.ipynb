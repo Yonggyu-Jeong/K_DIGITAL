{
  "nbformat": 4,
  "nbformat_minor": 0,
  "metadata": {
    "colab": {
      "provenance": []
    },
    "kernelspec": {
      "name": "python3",
      "display_name": "Python 3"
    },
    "language_info": {
      "name": "python"
    },
    "accelerator": "GPU",
    "gpuClass": "standard"
  },
  "cells": [
    {
      "cell_type": "code",
      "execution_count": 1,
      "metadata": {
        "id": "fGBIHZs6Kgt0"
      },
      "outputs": [],
      "source": [
        "import numpy as np\n",
        "import pandas as pd\n",
        "import tensorflow as tf\n",
        "import matplotlib.pyplot as plt\n",
        "from sklearn.metrics import accuracy_score\n",
        "%matplotlib inline \n",
        "#matplotlib 에서 inline함수는 그림을 보여줌"
      ]
    },
    {
      "cell_type": "code",
      "source": [
        "#df = pd.read_csv(\"/content/drive/MyDrive/pasteurizer01.csv\",index_col=\"STD_DT\") \n",
        "df1 = pd.read_csv(\"/content/drive/MyDrive/final_dtdt_1.csv\", index_col=\"STD_DT\")"
      ],
      "metadata": {
        "id": "-RXsBQ7m9IMx"
      },
      "execution_count": 2,
      "outputs": []
    },
    {
      "cell_type": "code",
      "source": [
        "# df = df.interpolate(method=\"linear\") \n",
        "#interpolate 함수를 이용해서 널값에 주변값을 비교해서 알아서 처리함"
      ],
      "metadata": {
        "id": "KjJBHPMh9NND"
      },
      "execution_count": 4,
      "outputs": []
    },
    {
      "cell_type": "code",
      "source": [
        "df1"
      ],
      "metadata": {
        "colab": {
          "base_uri": "https://localhost:8080/",
          "height": 455
        },
        "id": "Yz-tmzFx9TTJ",
        "outputId": "b024d9d2-705f-4db0-cf0d-d2ffc0176bb3"
      },
      "execution_count": 3,
      "outputs": [
        {
          "output_type": "execute_result",
          "data": {
            "text/plain": [
              "                  Unnamed: 0  MIXA_PASTEUR_STATE  MIXB_PASTEUR_STATE  \\\n",
              "STD_DT                                                                 \n",
              "2020-03-04 6:00            0                   1                   1   \n",
              "2020-03-04 6:30            1                   1                   1   \n",
              "2020-03-04 7:00            2                   1                   1   \n",
              "2020-03-04 7:30            3                   1                   1   \n",
              "2020-03-04 8:00            4                   1                   1   \n",
              "...                      ...                 ...                 ...   \n",
              "2020-11-11 15:00       11042                   1                   1   \n",
              "2020-11-11 15:30       11043                   1                   1   \n",
              "2020-11-11 16:00       11044                   1                   1   \n",
              "2020-11-11 16:30       11045                   1                   1   \n",
              "2020-11-11 17:00       11046                   1                   1   \n",
              "\n",
              "                  MIXA_PASTEUR_TEMP  MIXB_PASTEUR_TEMP INSP  \n",
              "STD_DT                                                       \n",
              "2020-03-04 6:00                 551                524   OK  \n",
              "2020-03-04 6:30                 584                536   OK  \n",
              "2020-03-04 7:00                 584                536   OK  \n",
              "2020-03-04 7:30                 585                536   OK  \n",
              "2020-03-04 8:00                 585                536   OK  \n",
              "...                             ...                ...  ...  \n",
              "2020-11-11 15:00                595                562   OK  \n",
              "2020-11-11 15:30                553                557   OK  \n",
              "2020-11-11 16:00                592                554   OK  \n",
              "2020-11-11 16:30                559                595   OK  \n",
              "2020-11-11 17:00                590                553   OK  \n",
              "\n",
              "[11047 rows x 6 columns]"
            ],
            "text/html": [
              "\n",
              "  <div id=\"df-8da72fd5-17ee-44f5-9715-1092ffa01489\">\n",
              "    <div class=\"colab-df-container\">\n",
              "      <div>\n",
              "<style scoped>\n",
              "    .dataframe tbody tr th:only-of-type {\n",
              "        vertical-align: middle;\n",
              "    }\n",
              "\n",
              "    .dataframe tbody tr th {\n",
              "        vertical-align: top;\n",
              "    }\n",
              "\n",
              "    .dataframe thead th {\n",
              "        text-align: right;\n",
              "    }\n",
              "</style>\n",
              "<table border=\"1\" class=\"dataframe\">\n",
              "  <thead>\n",
              "    <tr style=\"text-align: right;\">\n",
              "      <th></th>\n",
              "      <th>Unnamed: 0</th>\n",
              "      <th>MIXA_PASTEUR_STATE</th>\n",
              "      <th>MIXB_PASTEUR_STATE</th>\n",
              "      <th>MIXA_PASTEUR_TEMP</th>\n",
              "      <th>MIXB_PASTEUR_TEMP</th>\n",
              "      <th>INSP</th>\n",
              "    </tr>\n",
              "    <tr>\n",
              "      <th>STD_DT</th>\n",
              "      <th></th>\n",
              "      <th></th>\n",
              "      <th></th>\n",
              "      <th></th>\n",
              "      <th></th>\n",
              "      <th></th>\n",
              "    </tr>\n",
              "  </thead>\n",
              "  <tbody>\n",
              "    <tr>\n",
              "      <th>2020-03-04 6:00</th>\n",
              "      <td>0</td>\n",
              "      <td>1</td>\n",
              "      <td>1</td>\n",
              "      <td>551</td>\n",
              "      <td>524</td>\n",
              "      <td>OK</td>\n",
              "    </tr>\n",
              "    <tr>\n",
              "      <th>2020-03-04 6:30</th>\n",
              "      <td>1</td>\n",
              "      <td>1</td>\n",
              "      <td>1</td>\n",
              "      <td>584</td>\n",
              "      <td>536</td>\n",
              "      <td>OK</td>\n",
              "    </tr>\n",
              "    <tr>\n",
              "      <th>2020-03-04 7:00</th>\n",
              "      <td>2</td>\n",
              "      <td>1</td>\n",
              "      <td>1</td>\n",
              "      <td>584</td>\n",
              "      <td>536</td>\n",
              "      <td>OK</td>\n",
              "    </tr>\n",
              "    <tr>\n",
              "      <th>2020-03-04 7:30</th>\n",
              "      <td>3</td>\n",
              "      <td>1</td>\n",
              "      <td>1</td>\n",
              "      <td>585</td>\n",
              "      <td>536</td>\n",
              "      <td>OK</td>\n",
              "    </tr>\n",
              "    <tr>\n",
              "      <th>2020-03-04 8:00</th>\n",
              "      <td>4</td>\n",
              "      <td>1</td>\n",
              "      <td>1</td>\n",
              "      <td>585</td>\n",
              "      <td>536</td>\n",
              "      <td>OK</td>\n",
              "    </tr>\n",
              "    <tr>\n",
              "      <th>...</th>\n",
              "      <td>...</td>\n",
              "      <td>...</td>\n",
              "      <td>...</td>\n",
              "      <td>...</td>\n",
              "      <td>...</td>\n",
              "      <td>...</td>\n",
              "    </tr>\n",
              "    <tr>\n",
              "      <th>2020-11-11 15:00</th>\n",
              "      <td>11042</td>\n",
              "      <td>1</td>\n",
              "      <td>1</td>\n",
              "      <td>595</td>\n",
              "      <td>562</td>\n",
              "      <td>OK</td>\n",
              "    </tr>\n",
              "    <tr>\n",
              "      <th>2020-11-11 15:30</th>\n",
              "      <td>11043</td>\n",
              "      <td>1</td>\n",
              "      <td>1</td>\n",
              "      <td>553</td>\n",
              "      <td>557</td>\n",
              "      <td>OK</td>\n",
              "    </tr>\n",
              "    <tr>\n",
              "      <th>2020-11-11 16:00</th>\n",
              "      <td>11044</td>\n",
              "      <td>1</td>\n",
              "      <td>1</td>\n",
              "      <td>592</td>\n",
              "      <td>554</td>\n",
              "      <td>OK</td>\n",
              "    </tr>\n",
              "    <tr>\n",
              "      <th>2020-11-11 16:30</th>\n",
              "      <td>11045</td>\n",
              "      <td>1</td>\n",
              "      <td>1</td>\n",
              "      <td>559</td>\n",
              "      <td>595</td>\n",
              "      <td>OK</td>\n",
              "    </tr>\n",
              "    <tr>\n",
              "      <th>2020-11-11 17:00</th>\n",
              "      <td>11046</td>\n",
              "      <td>1</td>\n",
              "      <td>1</td>\n",
              "      <td>590</td>\n",
              "      <td>553</td>\n",
              "      <td>OK</td>\n",
              "    </tr>\n",
              "  </tbody>\n",
              "</table>\n",
              "<p>11047 rows × 6 columns</p>\n",
              "</div>\n",
              "      <button class=\"colab-df-convert\" onclick=\"convertToInteractive('df-8da72fd5-17ee-44f5-9715-1092ffa01489')\"\n",
              "              title=\"Convert this dataframe to an interactive table.\"\n",
              "              style=\"display:none;\">\n",
              "        \n",
              "  <svg xmlns=\"http://www.w3.org/2000/svg\" height=\"24px\"viewBox=\"0 0 24 24\"\n",
              "       width=\"24px\">\n",
              "    <path d=\"M0 0h24v24H0V0z\" fill=\"none\"/>\n",
              "    <path d=\"M18.56 5.44l.94 2.06.94-2.06 2.06-.94-2.06-.94-.94-2.06-.94 2.06-2.06.94zm-11 1L8.5 8.5l.94-2.06 2.06-.94-2.06-.94L8.5 2.5l-.94 2.06-2.06.94zm10 10l.94 2.06.94-2.06 2.06-.94-2.06-.94-.94-2.06-.94 2.06-2.06.94z\"/><path d=\"M17.41 7.96l-1.37-1.37c-.4-.4-.92-.59-1.43-.59-.52 0-1.04.2-1.43.59L10.3 9.45l-7.72 7.72c-.78.78-.78 2.05 0 2.83L4 21.41c.39.39.9.59 1.41.59.51 0 1.02-.2 1.41-.59l7.78-7.78 2.81-2.81c.8-.78.8-2.07 0-2.86zM5.41 20L4 18.59l7.72-7.72 1.47 1.35L5.41 20z\"/>\n",
              "  </svg>\n",
              "      </button>\n",
              "      \n",
              "  <style>\n",
              "    .colab-df-container {\n",
              "      display:flex;\n",
              "      flex-wrap:wrap;\n",
              "      gap: 12px;\n",
              "    }\n",
              "\n",
              "    .colab-df-convert {\n",
              "      background-color: #E8F0FE;\n",
              "      border: none;\n",
              "      border-radius: 50%;\n",
              "      cursor: pointer;\n",
              "      display: none;\n",
              "      fill: #1967D2;\n",
              "      height: 32px;\n",
              "      padding: 0 0 0 0;\n",
              "      width: 32px;\n",
              "    }\n",
              "\n",
              "    .colab-df-convert:hover {\n",
              "      background-color: #E2EBFA;\n",
              "      box-shadow: 0px 1px 2px rgba(60, 64, 67, 0.3), 0px 1px 3px 1px rgba(60, 64, 67, 0.15);\n",
              "      fill: #174EA6;\n",
              "    }\n",
              "\n",
              "    [theme=dark] .colab-df-convert {\n",
              "      background-color: #3B4455;\n",
              "      fill: #D2E3FC;\n",
              "    }\n",
              "\n",
              "    [theme=dark] .colab-df-convert:hover {\n",
              "      background-color: #434B5C;\n",
              "      box-shadow: 0px 1px 3px 1px rgba(0, 0, 0, 0.15);\n",
              "      filter: drop-shadow(0px 1px 2px rgba(0, 0, 0, 0.3));\n",
              "      fill: #FFFFFF;\n",
              "    }\n",
              "  </style>\n",
              "\n",
              "      <script>\n",
              "        const buttonEl =\n",
              "          document.querySelector('#df-8da72fd5-17ee-44f5-9715-1092ffa01489 button.colab-df-convert');\n",
              "        buttonEl.style.display =\n",
              "          google.colab.kernel.accessAllowed ? 'block' : 'none';\n",
              "\n",
              "        async function convertToInteractive(key) {\n",
              "          const element = document.querySelector('#df-8da72fd5-17ee-44f5-9715-1092ffa01489');\n",
              "          const dataTable =\n",
              "            await google.colab.kernel.invokeFunction('convertToInteractive',\n",
              "                                                     [key], {});\n",
              "          if (!dataTable) return;\n",
              "\n",
              "          const docLinkHtml = 'Like what you see? Visit the ' +\n",
              "            '<a target=\"_blank\" href=https://colab.research.google.com/notebooks/data_table.ipynb>data table notebook</a>'\n",
              "            + ' to learn more about interactive tables.';\n",
              "          element.innerHTML = '';\n",
              "          dataTable['output_type'] = 'display_data';\n",
              "          await google.colab.output.renderOutput(dataTable, element);\n",
              "          const docLink = document.createElement('div');\n",
              "          docLink.innerHTML = docLinkHtml;\n",
              "          element.appendChild(docLink);\n",
              "        }\n",
              "      </script>\n",
              "    </div>\n",
              "  </div>\n",
              "  "
            ]
          },
          "metadata": {},
          "execution_count": 3
        }
      ]
    },
    {
      "cell_type": "code",
      "source": [
        "df1.shape"
      ],
      "metadata": {
        "colab": {
          "base_uri": "https://localhost:8080/"
        },
        "id": "IIkhJYyfIq0M",
        "outputId": "0eb8f88d-5f4b-463c-c7dc-c13ead19a552"
      },
      "execution_count": 4,
      "outputs": [
        {
          "output_type": "execute_result",
          "data": {
            "text/plain": [
              "(11047, 6)"
            ]
          },
          "metadata": {},
          "execution_count": 4
        }
      ]
    },
    {
      "cell_type": "code",
      "source": [
        "df1 = df1.replace({'INSP' : 'OK'}, 1) \n",
        "#INSP OK=1 NG=0으로 범주화"
      ],
      "metadata": {
        "id": "JqXL4c7e-49H"
      },
      "execution_count": 5,
      "outputs": []
    },
    {
      "cell_type": "code",
      "source": [
        "df1 = df1.replace({'INSP' : 'NG'}, 0) "
      ],
      "metadata": {
        "id": "CbCOZrY5-9tQ"
      },
      "execution_count": 6,
      "outputs": []
    },
    {
      "cell_type": "code",
      "source": [
        "# train data랑 test 데이터 나눔\n",
        "x_train = df1.iloc[:8285, 2:6].values\n",
        "y_train = df1.iloc[:8285, [-1]].values\n",
        "x_train = np.array(x_train, dtype=np.float32)\n",
        "y_train = np.array(y_train, dtype=np.float32)\n",
        "\n",
        "# train과 test를 8:2 로 나눠서 진행하였는데 모델 과적합이 나와서\n",
        "# 과적합 잡으려고 validation 값 6:2:2\n",
        "# x_val = df.iloc[134909:168635, 1:5].values\n",
        "# y_val = df.iloc[134909:168635, [-1]].values\n",
        "print(x_train.shape, y_train.shape)\n",
        "\n",
        "x_test = df1.iloc[8836:, 2:6].values  \n",
        "y_test = df1.iloc[8836:, [-1]].values\n",
        "x_test = np.array(x_test, dtype=np.float32)\n",
        "y_test = np.array(y_test, dtype=np.float32)\n",
        "\n",
        "print(x_test.shape, y_test.shape)\n"
      ],
      "metadata": {
        "colab": {
          "base_uri": "https://localhost:8080/"
        },
        "id": "Vsv6J_1y9aKe",
        "outputId": "8df32669-5849-48ad-fd6f-cb5151ddf66b"
      },
      "execution_count": 7,
      "outputs": [
        {
          "output_type": "stream",
          "name": "stdout",
          "text": [
            "(8285, 4) (8285, 1)\n",
            "(2211, 4) (2211, 1)\n"
          ]
        }
      ]
    },
    {
      "cell_type": "code",
      "source": [
        "x_train.shape[1]"
      ],
      "metadata": {
        "colab": {
          "base_uri": "https://localhost:8080/"
        },
        "id": "GhEEj-EG_uHW",
        "outputId": "47f05337-4585-47dc-ab1b-1443c6dffabb"
      },
      "execution_count": 16,
      "outputs": [
        {
          "output_type": "execute_result",
          "data": {
            "text/plain": [
              "4"
            ]
          },
          "metadata": {},
          "execution_count": 16
        }
      ]
    },
    {
      "cell_type": "code",
      "source": [
        "len(x_train)"
      ],
      "metadata": {
        "colab": {
          "base_uri": "https://localhost:8080/"
        },
        "id": "UCnc1CpCAKz6",
        "outputId": "158ff0df-97d7-4f30-a1c3-ee781e4e1c46"
      },
      "execution_count": 17,
      "outputs": [
        {
          "output_type": "execute_result",
          "data": {
            "text/plain": [
              "8285"
            ]
          },
          "metadata": {},
          "execution_count": 17
        }
      ]
    },
    {
      "cell_type": "code",
      "source": [
        "# dataset parameters.\n",
        "nb_classes  = y_train.shape[1]  # 아웃풋 개수 \n",
        "nb_features = x_train.shape[1] # 뉴런갯수\n",
        "print(nb_classes, nb_features)\n",
        "\n",
        "# training HyperParameters\n",
        "learning_rate  = 0.00001 # 0.01더 곱해봄\n",
        "batch_size     = 256 # 128\n",
        "epochs         = 100\n",
        "\n",
        "# network hyperparameters\n",
        "n_hidden_1 = 7 # 1st layer number of neurons.\n",
        "n_hidden_2 = 7 # 2nd layer number of neurons.\n",
        "\n",
        "n_train = x_train.shape[0] \n",
        "n_test  = x_test.shape[0] "
      ],
      "metadata": {
        "colab": {
          "base_uri": "https://localhost:8080/"
        },
        "id": "NdYI-vK19aP6",
        "outputId": "ed3fd813-e6a4-49a2-a463-f08fcde1b973"
      },
      "execution_count": 18,
      "outputs": [
        {
          "output_type": "stream",
          "name": "stdout",
          "text": [
            "1 4\n"
          ]
        }
      ]
    },
    {
      "cell_type": "code",
      "source": [
        "from tensorflow.keras.models import Sequential\n",
        "from tensorflow.keras.layers import Dense, Dropout\n",
        "from tensorflow.keras.optimizers import RMSprop, SGD\n",
        "from sklearn.metrics import *\n",
        "from tensorflow.keras.callbacks import EarlyStopping"
      ],
      "metadata": {
        "id": "iscsdY6pAfUh"
      },
      "execution_count": 19,
      "outputs": []
    },
    {
      "cell_type": "code",
      "source": [
        "model = Sequential()  # 모델선언\n",
        "model.add(Dense(units = n_hidden_1, activation='sigmoid', input_shape=(nb_features,)))   # neuron, input column개수\n",
        "model.add(Dense(n_hidden_2, activation='sigmoid'))\n",
        "model.add(Dropout(rate=0.5))\n",
        "model.add(Dense(nb_classes, activation='sigmoid'))\n",
        "\n",
        "# ouput column개수\n",
        "model.summary()"
      ],
      "metadata": {
        "id": "MTcTgS__ASdj"
      },
      "execution_count": null,
      "outputs": []
    },
    {
      "cell_type": "code",
      "source": [
        "# model = Sequential()\n",
        "# model.add(Dense(128.activation='sigmoid',input))"
      ],
      "metadata": {
        "id": "zXLjKwjggM3u"
      },
      "execution_count": null,
      "outputs": []
    },
    {
      "cell_type": "code",
      "source": [
        "model.compile(loss='binary_crossentropy',   # y = not one-hot encoding but number\n",
        "              optimizer='RMSProp', # adam 에서 RMS로\n",
        "              metrics=['accuracy'])"
      ],
      "metadata": {
        "id": "lBy1GrHDAkOq"
      },
      "execution_count": 61,
      "outputs": []
    },
    {
      "cell_type": "code",
      "source": [
        "#early_stopping = EarlyStopping(monitor='val_loss', patience = 10)\n",
        "history = model.fit(x_train, y_train,\n",
        "                    batch_size=batch_size,\n",
        "                    epochs=500,\n",
        "                    verbose=1, \n",
        "                    #callbacks=[early_stopping],\n",
        "                    validation_data = (x_test, y_test)\n",
        "                    )\n",
        "# validation_data=(x_train, y_train)\n",
        "#validation_split=0.25"
      ],
      "metadata": {
        "colab": {
          "base_uri": "https://localhost:8080/",
          "height": 1000
        },
        "id": "0AL3MiZ0A6Pw",
        "outputId": "f5e38a76-533b-4e9d-d85f-f53fb129f188"
      },
      "execution_count": 70,
      "outputs": [
        {
          "output_type": "stream",
          "name": "stdout",
          "text": [
            "Epoch 1/500\n",
            "33/33 [==============================] - 0s 5ms/step - loss: 0.0423 - accuracy: 0.9716 - val_loss: 4.4642e-07 - val_accuracy: 1.0000\n",
            "Epoch 2/500\n",
            "33/33 [==============================] - 0s 4ms/step - loss: 0.0436 - accuracy: 0.9690 - val_loss: 4.6443e-07 - val_accuracy: 1.0000\n",
            "Epoch 3/500\n",
            "33/33 [==============================] - 0s 4ms/step - loss: 0.0394 - accuracy: 0.9738 - val_loss: 4.8113e-07 - val_accuracy: 1.0000\n",
            "Epoch 4/500\n",
            "33/33 [==============================] - 0s 4ms/step - loss: 0.0404 - accuracy: 0.9730 - val_loss: 4.4396e-07 - val_accuracy: 1.0000\n",
            "Epoch 5/500\n",
            "33/33 [==============================] - 0s 4ms/step - loss: 0.0408 - accuracy: 0.9725 - val_loss: 4.2665e-07 - val_accuracy: 1.0000\n",
            "Epoch 6/500\n",
            "33/33 [==============================] - 0s 5ms/step - loss: 0.0429 - accuracy: 0.9713 - val_loss: 4.2523e-07 - val_accuracy: 1.0000\n",
            "Epoch 7/500\n",
            "33/33 [==============================] - 0s 5ms/step - loss: 0.0429 - accuracy: 0.9701 - val_loss: 4.3427e-07 - val_accuracy: 1.0000\n",
            "Epoch 8/500\n",
            "33/33 [==============================] - 0s 4ms/step - loss: 0.0437 - accuracy: 0.9709 - val_loss: 4.2045e-07 - val_accuracy: 1.0000\n",
            "Epoch 9/500\n",
            "33/33 [==============================] - 0s 4ms/step - loss: 0.0422 - accuracy: 0.9747 - val_loss: 4.0146e-07 - val_accuracy: 1.0000\n",
            "Epoch 10/500\n",
            "33/33 [==============================] - 0s 4ms/step - loss: 0.0433 - accuracy: 0.9732 - val_loss: 3.9289e-07 - val_accuracy: 1.0000\n",
            "Epoch 11/500\n",
            "33/33 [==============================] - 0s 5ms/step - loss: 0.0395 - accuracy: 0.9742 - val_loss: 3.8793e-07 - val_accuracy: 1.0000\n",
            "Epoch 12/500\n",
            "33/33 [==============================] - 0s 4ms/step - loss: 0.0437 - accuracy: 0.9712 - val_loss: 3.9576e-07 - val_accuracy: 1.0000\n",
            "Epoch 13/500\n",
            "33/33 [==============================] - 0s 4ms/step - loss: 0.0452 - accuracy: 0.9672 - val_loss: 4.0799e-07 - val_accuracy: 1.0000\n",
            "Epoch 14/500\n",
            "33/33 [==============================] - 0s 4ms/step - loss: 0.0445 - accuracy: 0.9716 - val_loss: 3.8851e-07 - val_accuracy: 1.0000\n",
            "Epoch 15/500\n",
            "33/33 [==============================] - 0s 4ms/step - loss: 0.0409 - accuracy: 0.9720 - val_loss: 3.7591e-07 - val_accuracy: 1.0000\n",
            "Epoch 16/500\n",
            "33/33 [==============================] - 0s 4ms/step - loss: 0.0409 - accuracy: 0.9745 - val_loss: 3.5502e-07 - val_accuracy: 1.0000\n",
            "Epoch 17/500\n",
            "33/33 [==============================] - 0s 5ms/step - loss: 0.0385 - accuracy: 0.9754 - val_loss: 3.4078e-07 - val_accuracy: 1.0000\n",
            "Epoch 18/500\n",
            "33/33 [==============================] - 0s 4ms/step - loss: 0.0420 - accuracy: 0.9739 - val_loss: 3.1995e-07 - val_accuracy: 1.0000\n",
            "Epoch 19/500\n",
            "33/33 [==============================] - 0s 4ms/step - loss: 0.0392 - accuracy: 0.9757 - val_loss: 3.1939e-07 - val_accuracy: 1.0000\n",
            "Epoch 20/500\n",
            "33/33 [==============================] - 0s 5ms/step - loss: 0.0403 - accuracy: 0.9757 - val_loss: 3.0669e-07 - val_accuracy: 1.0000\n",
            "Epoch 21/500\n",
            "33/33 [==============================] - 0s 4ms/step - loss: 0.0423 - accuracy: 0.9718 - val_loss: 3.3930e-07 - val_accuracy: 1.0000\n",
            "Epoch 22/500\n",
            "33/33 [==============================] - 0s 4ms/step - loss: 0.0420 - accuracy: 0.9725 - val_loss: 3.2054e-07 - val_accuracy: 1.0000\n",
            "Epoch 23/500\n",
            "33/33 [==============================] - 0s 5ms/step - loss: 0.0395 - accuracy: 0.9755 - val_loss: 2.9911e-07 - val_accuracy: 1.0000\n",
            "Epoch 24/500\n",
            "33/33 [==============================] - 0s 5ms/step - loss: 0.0427 - accuracy: 0.9718 - val_loss: 3.4252e-07 - val_accuracy: 1.0000\n",
            "Epoch 25/500\n",
            "33/33 [==============================] - 0s 4ms/step - loss: 0.0417 - accuracy: 0.9732 - val_loss: 3.1502e-07 - val_accuracy: 1.0000\n",
            "Epoch 26/500\n",
            "33/33 [==============================] - 0s 4ms/step - loss: 0.0438 - accuracy: 0.9695 - val_loss: 3.3867e-07 - val_accuracy: 1.0000\n",
            "Epoch 27/500\n",
            "33/33 [==============================] - 0s 4ms/step - loss: 0.0423 - accuracy: 0.9721 - val_loss: 3.3345e-07 - val_accuracy: 1.0000\n",
            "Epoch 28/500\n",
            "33/33 [==============================] - 0s 4ms/step - loss: 0.0403 - accuracy: 0.9733 - val_loss: 3.3720e-07 - val_accuracy: 1.0000\n",
            "Epoch 29/500\n",
            "33/33 [==============================] - 0s 4ms/step - loss: 0.0413 - accuracy: 0.9713 - val_loss: 3.1612e-07 - val_accuracy: 1.0000\n",
            "Epoch 30/500\n",
            "33/33 [==============================] - 0s 4ms/step - loss: 0.0443 - accuracy: 0.9699 - val_loss: 3.1221e-07 - val_accuracy: 1.0000\n",
            "Epoch 31/500\n",
            "33/33 [==============================] - 0s 4ms/step - loss: 0.0441 - accuracy: 0.9708 - val_loss: 3.2083e-07 - val_accuracy: 1.0000\n",
            "Epoch 32/500\n",
            "33/33 [==============================] - 0s 4ms/step - loss: 0.0456 - accuracy: 0.9707 - val_loss: 3.0176e-07 - val_accuracy: 1.0000\n",
            "Epoch 33/500\n",
            "33/33 [==============================] - 0s 4ms/step - loss: 0.0404 - accuracy: 0.9736 - val_loss: 2.8535e-07 - val_accuracy: 1.0000\n",
            "Epoch 34/500\n",
            "33/33 [==============================] - 0s 5ms/step - loss: 0.0416 - accuracy: 0.9715 - val_loss: 2.9980e-07 - val_accuracy: 1.0000\n",
            "Epoch 35/500\n",
            "33/33 [==============================] - 0s 4ms/step - loss: 0.0418 - accuracy: 0.9708 - val_loss: 3.0582e-07 - val_accuracy: 1.0000\n",
            "Epoch 36/500\n",
            "33/33 [==============================] - 0s 4ms/step - loss: 0.0419 - accuracy: 0.9743 - val_loss: 2.7578e-07 - val_accuracy: 1.0000\n",
            "Epoch 37/500\n",
            "33/33 [==============================] - 0s 4ms/step - loss: 0.0420 - accuracy: 0.9732 - val_loss: 2.5260e-07 - val_accuracy: 1.0000\n",
            "Epoch 38/500\n",
            "33/33 [==============================] - 0s 4ms/step - loss: 0.0413 - accuracy: 0.9727 - val_loss: 2.5714e-07 - val_accuracy: 1.0000\n",
            "Epoch 39/500\n",
            "33/33 [==============================] - 0s 4ms/step - loss: 0.0442 - accuracy: 0.9709 - val_loss: 2.6234e-07 - val_accuracy: 1.0000\n",
            "Epoch 40/500\n",
            "33/33 [==============================] - 0s 4ms/step - loss: 0.0396 - accuracy: 0.9750 - val_loss: 2.6204e-07 - val_accuracy: 1.0000\n",
            "Epoch 41/500\n",
            "33/33 [==============================] - 0s 4ms/step - loss: 0.0430 - accuracy: 0.9709 - val_loss: 2.7719e-07 - val_accuracy: 1.0000\n",
            "Epoch 42/500\n",
            "33/33 [==============================] - 0s 4ms/step - loss: 0.0416 - accuracy: 0.9734 - val_loss: 2.4937e-07 - val_accuracy: 1.0000\n",
            "Epoch 43/500\n",
            "33/33 [==============================] - 0s 4ms/step - loss: 0.0404 - accuracy: 0.9748 - val_loss: 2.3162e-07 - val_accuracy: 1.0000\n",
            "Epoch 44/500\n",
            "33/33 [==============================] - 0s 4ms/step - loss: 0.0430 - accuracy: 0.9731 - val_loss: 2.5918e-07 - val_accuracy: 1.0000\n",
            "Epoch 45/500\n",
            "33/33 [==============================] - 0s 4ms/step - loss: 0.0407 - accuracy: 0.9734 - val_loss: 2.3111e-07 - val_accuracy: 1.0000\n",
            "Epoch 46/500\n",
            "33/33 [==============================] - 0s 5ms/step - loss: 0.0436 - accuracy: 0.9707 - val_loss: 2.6497e-07 - val_accuracy: 1.0000\n",
            "Epoch 47/500\n",
            "33/33 [==============================] - 0s 4ms/step - loss: 0.0399 - accuracy: 0.9743 - val_loss: 2.4922e-07 - val_accuracy: 1.0000\n",
            "Epoch 48/500\n",
            "33/33 [==============================] - 0s 4ms/step - loss: 0.0415 - accuracy: 0.9736 - val_loss: 2.4502e-07 - val_accuracy: 1.0000\n",
            "Epoch 49/500\n",
            "33/33 [==============================] - 0s 4ms/step - loss: 0.0392 - accuracy: 0.9756 - val_loss: 2.3556e-07 - val_accuracy: 1.0000\n",
            "Epoch 50/500\n",
            "33/33 [==============================] - 0s 4ms/step - loss: 0.0443 - accuracy: 0.9712 - val_loss: 2.2853e-07 - val_accuracy: 1.0000\n",
            "Epoch 51/500\n",
            "33/33 [==============================] - 0s 4ms/step - loss: 0.0442 - accuracy: 0.9720 - val_loss: 2.3774e-07 - val_accuracy: 1.0000\n",
            "Epoch 52/500\n",
            "33/33 [==============================] - 0s 4ms/step - loss: 0.0402 - accuracy: 0.9753 - val_loss: 2.1780e-07 - val_accuracy: 1.0000\n",
            "Epoch 53/500\n",
            "33/33 [==============================] - 0s 4ms/step - loss: 0.0390 - accuracy: 0.9754 - val_loss: 2.0583e-07 - val_accuracy: 1.0000\n",
            "Epoch 54/500\n",
            "33/33 [==============================] - 0s 4ms/step - loss: 0.0403 - accuracy: 0.9748 - val_loss: 1.9344e-07 - val_accuracy: 1.0000\n",
            "Epoch 55/500\n",
            "17/33 [==============>...............] - ETA: 0s - loss: 0.0408 - accuracy: 0.9694"
          ]
        },
        {
          "output_type": "error",
          "ename": "KeyboardInterrupt",
          "evalue": "ignored",
          "traceback": [
            "\u001b[0;31m---------------------------------------------------------------------------\u001b[0m",
            "\u001b[0;31mKeyboardInterrupt\u001b[0m                         Traceback (most recent call last)",
            "\u001b[0;32m<ipython-input-70-1fb64a43eeea>\u001b[0m in \u001b[0;36m<module>\u001b[0;34m\u001b[0m\n\u001b[1;32m      1\u001b[0m \u001b[0;31m#early_stopping = EarlyStopping(monitor='val_loss', patience = 10)\u001b[0m\u001b[0;34m\u001b[0m\u001b[0;34m\u001b[0m\u001b[0;34m\u001b[0m\u001b[0m\n\u001b[0;32m----> 2\u001b[0;31m history = model.fit(x_train, y_train,\n\u001b[0m\u001b[1;32m      3\u001b[0m                     \u001b[0mbatch_size\u001b[0m\u001b[0;34m=\u001b[0m\u001b[0mbatch_size\u001b[0m\u001b[0;34m,\u001b[0m\u001b[0;34m\u001b[0m\u001b[0;34m\u001b[0m\u001b[0m\n\u001b[1;32m      4\u001b[0m                     \u001b[0mepochs\u001b[0m\u001b[0;34m=\u001b[0m\u001b[0;36m500\u001b[0m\u001b[0;34m,\u001b[0m\u001b[0;34m\u001b[0m\u001b[0;34m\u001b[0m\u001b[0m\n\u001b[1;32m      5\u001b[0m                     \u001b[0mverbose\u001b[0m\u001b[0;34m=\u001b[0m\u001b[0;36m1\u001b[0m\u001b[0;34m,\u001b[0m\u001b[0;34m\u001b[0m\u001b[0;34m\u001b[0m\u001b[0m\n",
            "\u001b[0;32m/usr/local/lib/python3.8/dist-packages/keras/utils/traceback_utils.py\u001b[0m in \u001b[0;36merror_handler\u001b[0;34m(*args, **kwargs)\u001b[0m\n\u001b[1;32m     62\u001b[0m     \u001b[0mfiltered_tb\u001b[0m \u001b[0;34m=\u001b[0m \u001b[0;32mNone\u001b[0m\u001b[0;34m\u001b[0m\u001b[0;34m\u001b[0m\u001b[0m\n\u001b[1;32m     63\u001b[0m     \u001b[0;32mtry\u001b[0m\u001b[0;34m:\u001b[0m\u001b[0;34m\u001b[0m\u001b[0;34m\u001b[0m\u001b[0m\n\u001b[0;32m---> 64\u001b[0;31m       \u001b[0;32mreturn\u001b[0m \u001b[0mfn\u001b[0m\u001b[0;34m(\u001b[0m\u001b[0;34m*\u001b[0m\u001b[0margs\u001b[0m\u001b[0;34m,\u001b[0m \u001b[0;34m**\u001b[0m\u001b[0mkwargs\u001b[0m\u001b[0;34m)\u001b[0m\u001b[0;34m\u001b[0m\u001b[0;34m\u001b[0m\u001b[0m\n\u001b[0m\u001b[1;32m     65\u001b[0m     \u001b[0;32mexcept\u001b[0m \u001b[0mException\u001b[0m \u001b[0;32mas\u001b[0m \u001b[0me\u001b[0m\u001b[0;34m:\u001b[0m  \u001b[0;31m# pylint: disable=broad-except\u001b[0m\u001b[0;34m\u001b[0m\u001b[0;34m\u001b[0m\u001b[0m\n\u001b[1;32m     66\u001b[0m       \u001b[0mfiltered_tb\u001b[0m \u001b[0;34m=\u001b[0m \u001b[0m_process_traceback_frames\u001b[0m\u001b[0;34m(\u001b[0m\u001b[0me\u001b[0m\u001b[0;34m.\u001b[0m\u001b[0m__traceback__\u001b[0m\u001b[0;34m)\u001b[0m\u001b[0;34m\u001b[0m\u001b[0;34m\u001b[0m\u001b[0m\n",
            "\u001b[0;32m/usr/local/lib/python3.8/dist-packages/keras/engine/training.py\u001b[0m in \u001b[0;36mfit\u001b[0;34m(self, x, y, batch_size, epochs, verbose, callbacks, validation_split, validation_data, shuffle, class_weight, sample_weight, initial_epoch, steps_per_epoch, validation_steps, validation_batch_size, validation_freq, max_queue_size, workers, use_multiprocessing)\u001b[0m\n\u001b[1;32m   1443\u001b[0m                 \u001b[0mmodel\u001b[0m\u001b[0;34m=\u001b[0m\u001b[0mself\u001b[0m\u001b[0;34m,\u001b[0m\u001b[0;34m\u001b[0m\u001b[0;34m\u001b[0m\u001b[0m\n\u001b[1;32m   1444\u001b[0m                 steps_per_execution=self._steps_per_execution)\n\u001b[0;32m-> 1445\u001b[0;31m           val_logs = self.evaluate(\n\u001b[0m\u001b[1;32m   1446\u001b[0m               \u001b[0mx\u001b[0m\u001b[0;34m=\u001b[0m\u001b[0mval_x\u001b[0m\u001b[0;34m,\u001b[0m\u001b[0;34m\u001b[0m\u001b[0;34m\u001b[0m\u001b[0m\n\u001b[1;32m   1447\u001b[0m               \u001b[0my\u001b[0m\u001b[0;34m=\u001b[0m\u001b[0mval_y\u001b[0m\u001b[0;34m,\u001b[0m\u001b[0;34m\u001b[0m\u001b[0;34m\u001b[0m\u001b[0m\n",
            "\u001b[0;32m/usr/local/lib/python3.8/dist-packages/keras/utils/traceback_utils.py\u001b[0m in \u001b[0;36merror_handler\u001b[0;34m(*args, **kwargs)\u001b[0m\n\u001b[1;32m     62\u001b[0m     \u001b[0mfiltered_tb\u001b[0m \u001b[0;34m=\u001b[0m \u001b[0;32mNone\u001b[0m\u001b[0;34m\u001b[0m\u001b[0;34m\u001b[0m\u001b[0m\n\u001b[1;32m     63\u001b[0m     \u001b[0;32mtry\u001b[0m\u001b[0;34m:\u001b[0m\u001b[0;34m\u001b[0m\u001b[0;34m\u001b[0m\u001b[0m\n\u001b[0;32m---> 64\u001b[0;31m       \u001b[0;32mreturn\u001b[0m \u001b[0mfn\u001b[0m\u001b[0;34m(\u001b[0m\u001b[0;34m*\u001b[0m\u001b[0margs\u001b[0m\u001b[0;34m,\u001b[0m \u001b[0;34m**\u001b[0m\u001b[0mkwargs\u001b[0m\u001b[0;34m)\u001b[0m\u001b[0;34m\u001b[0m\u001b[0;34m\u001b[0m\u001b[0m\n\u001b[0m\u001b[1;32m     65\u001b[0m     \u001b[0;32mexcept\u001b[0m \u001b[0mException\u001b[0m \u001b[0;32mas\u001b[0m \u001b[0me\u001b[0m\u001b[0;34m:\u001b[0m  \u001b[0;31m# pylint: disable=broad-except\u001b[0m\u001b[0;34m\u001b[0m\u001b[0;34m\u001b[0m\u001b[0m\n\u001b[1;32m     66\u001b[0m       \u001b[0mfiltered_tb\u001b[0m \u001b[0;34m=\u001b[0m \u001b[0m_process_traceback_frames\u001b[0m\u001b[0;34m(\u001b[0m\u001b[0me\u001b[0m\u001b[0;34m.\u001b[0m\u001b[0m__traceback__\u001b[0m\u001b[0;34m)\u001b[0m\u001b[0;34m\u001b[0m\u001b[0;34m\u001b[0m\u001b[0m\n",
            "\u001b[0;32m/usr/local/lib/python3.8/dist-packages/keras/engine/training.py\u001b[0m in \u001b[0;36mevaluate\u001b[0;34m(self, x, y, batch_size, verbose, sample_weight, steps, callbacks, max_queue_size, workers, use_multiprocessing, return_dict, **kwargs)\u001b[0m\n\u001b[1;32m   1748\u001b[0m       \u001b[0mself\u001b[0m\u001b[0;34m.\u001b[0m\u001b[0m_test_counter\u001b[0m\u001b[0;34m.\u001b[0m\u001b[0massign\u001b[0m\u001b[0;34m(\u001b[0m\u001b[0;36m0\u001b[0m\u001b[0;34m)\u001b[0m\u001b[0;34m\u001b[0m\u001b[0;34m\u001b[0m\u001b[0m\n\u001b[1;32m   1749\u001b[0m       \u001b[0mcallbacks\u001b[0m\u001b[0;34m.\u001b[0m\u001b[0mon_test_begin\u001b[0m\u001b[0;34m(\u001b[0m\u001b[0;34m)\u001b[0m\u001b[0;34m\u001b[0m\u001b[0;34m\u001b[0m\u001b[0m\n\u001b[0;32m-> 1750\u001b[0;31m       \u001b[0;32mfor\u001b[0m \u001b[0m_\u001b[0m\u001b[0;34m,\u001b[0m \u001b[0miterator\u001b[0m \u001b[0;32min\u001b[0m \u001b[0mdata_handler\u001b[0m\u001b[0;34m.\u001b[0m\u001b[0menumerate_epochs\u001b[0m\u001b[0;34m(\u001b[0m\u001b[0;34m)\u001b[0m\u001b[0;34m:\u001b[0m  \u001b[0;31m# Single epoch.\u001b[0m\u001b[0;34m\u001b[0m\u001b[0;34m\u001b[0m\u001b[0m\n\u001b[0m\u001b[1;32m   1751\u001b[0m         \u001b[0mself\u001b[0m\u001b[0;34m.\u001b[0m\u001b[0mreset_metrics\u001b[0m\u001b[0;34m(\u001b[0m\u001b[0;34m)\u001b[0m\u001b[0;34m\u001b[0m\u001b[0;34m\u001b[0m\u001b[0m\n\u001b[1;32m   1752\u001b[0m         \u001b[0;32mwith\u001b[0m \u001b[0mdata_handler\u001b[0m\u001b[0;34m.\u001b[0m\u001b[0mcatch_stop_iteration\u001b[0m\u001b[0;34m(\u001b[0m\u001b[0;34m)\u001b[0m\u001b[0;34m:\u001b[0m\u001b[0;34m\u001b[0m\u001b[0;34m\u001b[0m\u001b[0m\n",
            "\u001b[0;32m/usr/local/lib/python3.8/dist-packages/keras/engine/data_adapter.py\u001b[0m in \u001b[0;36menumerate_epochs\u001b[0;34m(self)\u001b[0m\n\u001b[1;32m   1191\u001b[0m     \u001b[0;34m\"\"\"Yields `(epoch, tf.data.Iterator)`.\"\"\"\u001b[0m\u001b[0;34m\u001b[0m\u001b[0;34m\u001b[0m\u001b[0m\n\u001b[1;32m   1192\u001b[0m     \u001b[0;32mwith\u001b[0m \u001b[0mself\u001b[0m\u001b[0;34m.\u001b[0m\u001b[0m_truncate_execution_to_epoch\u001b[0m\u001b[0;34m(\u001b[0m\u001b[0;34m)\u001b[0m\u001b[0;34m:\u001b[0m\u001b[0;34m\u001b[0m\u001b[0;34m\u001b[0m\u001b[0m\n\u001b[0;32m-> 1193\u001b[0;31m       \u001b[0mdata_iterator\u001b[0m \u001b[0;34m=\u001b[0m \u001b[0miter\u001b[0m\u001b[0;34m(\u001b[0m\u001b[0mself\u001b[0m\u001b[0;34m.\u001b[0m\u001b[0m_dataset\u001b[0m\u001b[0;34m)\u001b[0m\u001b[0;34m\u001b[0m\u001b[0;34m\u001b[0m\u001b[0m\n\u001b[0m\u001b[1;32m   1194\u001b[0m       \u001b[0;32mfor\u001b[0m \u001b[0mepoch\u001b[0m \u001b[0;32min\u001b[0m \u001b[0mrange\u001b[0m\u001b[0;34m(\u001b[0m\u001b[0mself\u001b[0m\u001b[0;34m.\u001b[0m\u001b[0m_initial_epoch\u001b[0m\u001b[0;34m,\u001b[0m \u001b[0mself\u001b[0m\u001b[0;34m.\u001b[0m\u001b[0m_epochs\u001b[0m\u001b[0;34m)\u001b[0m\u001b[0;34m:\u001b[0m\u001b[0;34m\u001b[0m\u001b[0;34m\u001b[0m\u001b[0m\n\u001b[1;32m   1195\u001b[0m         \u001b[0;32mif\u001b[0m \u001b[0mself\u001b[0m\u001b[0;34m.\u001b[0m\u001b[0m_insufficient_data\u001b[0m\u001b[0;34m:\u001b[0m  \u001b[0;31m# Set by `catch_stop_iteration`.\u001b[0m\u001b[0;34m\u001b[0m\u001b[0;34m\u001b[0m\u001b[0m\n",
            "\u001b[0;32m/usr/local/lib/python3.8/dist-packages/tensorflow/python/data/ops/dataset_ops.py\u001b[0m in \u001b[0;36m__iter__\u001b[0;34m(self)\u001b[0m\n\u001b[1;32m    492\u001b[0m     \u001b[0;32mif\u001b[0m \u001b[0mcontext\u001b[0m\u001b[0;34m.\u001b[0m\u001b[0mexecuting_eagerly\u001b[0m\u001b[0;34m(\u001b[0m\u001b[0;34m)\u001b[0m \u001b[0;32mor\u001b[0m \u001b[0mops\u001b[0m\u001b[0;34m.\u001b[0m\u001b[0minside_function\u001b[0m\u001b[0;34m(\u001b[0m\u001b[0;34m)\u001b[0m\u001b[0;34m:\u001b[0m\u001b[0;34m\u001b[0m\u001b[0;34m\u001b[0m\u001b[0m\n\u001b[1;32m    493\u001b[0m       \u001b[0;32mwith\u001b[0m \u001b[0mops\u001b[0m\u001b[0;34m.\u001b[0m\u001b[0mcolocate_with\u001b[0m\u001b[0;34m(\u001b[0m\u001b[0mself\u001b[0m\u001b[0;34m.\u001b[0m\u001b[0m_variant_tensor\u001b[0m\u001b[0;34m)\u001b[0m\u001b[0;34m:\u001b[0m\u001b[0;34m\u001b[0m\u001b[0;34m\u001b[0m\u001b[0m\n\u001b[0;32m--> 494\u001b[0;31m         \u001b[0;32mreturn\u001b[0m \u001b[0miterator_ops\u001b[0m\u001b[0;34m.\u001b[0m\u001b[0mOwnedIterator\u001b[0m\u001b[0;34m(\u001b[0m\u001b[0mself\u001b[0m\u001b[0;34m)\u001b[0m\u001b[0;34m\u001b[0m\u001b[0;34m\u001b[0m\u001b[0m\n\u001b[0m\u001b[1;32m    495\u001b[0m     \u001b[0;32melse\u001b[0m\u001b[0;34m:\u001b[0m\u001b[0;34m\u001b[0m\u001b[0;34m\u001b[0m\u001b[0m\n\u001b[1;32m    496\u001b[0m       raise RuntimeError(\"`tf.data.Dataset` only supports Python-style \"\n",
            "\u001b[0;32m/usr/local/lib/python3.8/dist-packages/tensorflow/python/data/ops/iterator_ops.py\u001b[0m in \u001b[0;36m__init__\u001b[0;34m(self, dataset, components, element_spec)\u001b[0m\n\u001b[1;32m    694\u001b[0m             \u001b[0;34m\"When `dataset` is provided, `element_spec` and `components` must \"\u001b[0m\u001b[0;34m\u001b[0m\u001b[0;34m\u001b[0m\u001b[0m\n\u001b[1;32m    695\u001b[0m             \"not be specified.\")\n\u001b[0;32m--> 696\u001b[0;31m       \u001b[0mself\u001b[0m\u001b[0;34m.\u001b[0m\u001b[0m_create_iterator\u001b[0m\u001b[0;34m(\u001b[0m\u001b[0mdataset\u001b[0m\u001b[0;34m)\u001b[0m\u001b[0;34m\u001b[0m\u001b[0;34m\u001b[0m\u001b[0m\n\u001b[0m\u001b[1;32m    697\u001b[0m \u001b[0;34m\u001b[0m\u001b[0m\n\u001b[1;32m    698\u001b[0m     \u001b[0mself\u001b[0m\u001b[0;34m.\u001b[0m\u001b[0m_get_next_call_count\u001b[0m \u001b[0;34m=\u001b[0m \u001b[0;36m0\u001b[0m\u001b[0;34m\u001b[0m\u001b[0;34m\u001b[0m\u001b[0m\n",
            "\u001b[0;32m/usr/local/lib/python3.8/dist-packages/tensorflow/python/data/ops/iterator_ops.py\u001b[0m in \u001b[0;36m_create_iterator\u001b[0;34m(self, dataset)\u001b[0m\n\u001b[1;32m    719\u001b[0m               \u001b[0moutput_types\u001b[0m\u001b[0;34m=\u001b[0m\u001b[0mself\u001b[0m\u001b[0;34m.\u001b[0m\u001b[0m_flat_output_types\u001b[0m\u001b[0;34m,\u001b[0m\u001b[0;34m\u001b[0m\u001b[0;34m\u001b[0m\u001b[0m\n\u001b[1;32m    720\u001b[0m               output_shapes=self._flat_output_shapes))\n\u001b[0;32m--> 721\u001b[0;31m       \u001b[0mgen_dataset_ops\u001b[0m\u001b[0;34m.\u001b[0m\u001b[0mmake_iterator\u001b[0m\u001b[0;34m(\u001b[0m\u001b[0mds_variant\u001b[0m\u001b[0;34m,\u001b[0m \u001b[0mself\u001b[0m\u001b[0;34m.\u001b[0m\u001b[0m_iterator_resource\u001b[0m\u001b[0;34m)\u001b[0m\u001b[0;34m\u001b[0m\u001b[0;34m\u001b[0m\u001b[0m\n\u001b[0m\u001b[1;32m    722\u001b[0m \u001b[0;34m\u001b[0m\u001b[0m\n\u001b[1;32m    723\u001b[0m   \u001b[0;32mdef\u001b[0m \u001b[0m__iter__\u001b[0m\u001b[0;34m(\u001b[0m\u001b[0mself\u001b[0m\u001b[0;34m)\u001b[0m\u001b[0;34m:\u001b[0m\u001b[0;34m\u001b[0m\u001b[0;34m\u001b[0m\u001b[0m\n",
            "\u001b[0;32m/usr/local/lib/python3.8/dist-packages/tensorflow/python/ops/gen_dataset_ops.py\u001b[0m in \u001b[0;36mmake_iterator\u001b[0;34m(dataset, iterator, name)\u001b[0m\n\u001b[1;32m   3407\u001b[0m   \u001b[0;32mif\u001b[0m \u001b[0mtld\u001b[0m\u001b[0;34m.\u001b[0m\u001b[0mis_eager\u001b[0m\u001b[0;34m:\u001b[0m\u001b[0;34m\u001b[0m\u001b[0;34m\u001b[0m\u001b[0m\n\u001b[1;32m   3408\u001b[0m     \u001b[0;32mtry\u001b[0m\u001b[0;34m:\u001b[0m\u001b[0;34m\u001b[0m\u001b[0;34m\u001b[0m\u001b[0m\n\u001b[0;32m-> 3409\u001b[0;31m       _result = pywrap_tfe.TFE_Py_FastPathExecute(\n\u001b[0m\u001b[1;32m   3410\u001b[0m         _ctx, \"MakeIterator\", name, dataset, iterator)\n\u001b[1;32m   3411\u001b[0m       \u001b[0;32mreturn\u001b[0m \u001b[0m_result\u001b[0m\u001b[0;34m\u001b[0m\u001b[0;34m\u001b[0m\u001b[0m\n",
            "\u001b[0;31mKeyboardInterrupt\u001b[0m: "
          ]
        }
      ]
    },
    {
      "cell_type": "code",
      "source": [
        "y_pred = model.predict(x_test)"
      ],
      "metadata": {
        "colab": {
          "base_uri": "https://localhost:8080/"
        },
        "id": "BUmdnk9EDbBi",
        "outputId": "9b00042b-6347-4c67-9d5b-624bf8405e89"
      },
      "execution_count": 63,
      "outputs": [
        {
          "output_type": "stream",
          "name": "stdout",
          "text": [
            "70/70 [==============================] - 0s 1ms/step\n"
          ]
        }
      ]
    },
    {
      "cell_type": "code",
      "source": [
        "y_pred"
      ],
      "metadata": {
        "colab": {
          "base_uri": "https://localhost:8080/"
        },
        "id": "CkF3W89AEQ-3",
        "outputId": "93a0e18c-22ee-45c3-8d89-b203b46528e2"
      },
      "execution_count": 64,
      "outputs": [
        {
          "output_type": "execute_result",
          "data": {
            "text/plain": [
              "array([[1.1299894e-06],\n",
              "       [1.1303256e-06],\n",
              "       [1.1304378e-06],\n",
              "       ...,\n",
              "       [1.0000000e+00],\n",
              "       [1.0000000e+00],\n",
              "       [1.0000000e+00]], dtype=float32)"
            ]
          },
          "metadata": {},
          "execution_count": 64
        }
      ]
    },
    {
      "cell_type": "code",
      "source": [
        "# y_pred 값이 array 형식이어서 \n",
        "y_pr = []\n",
        "for i in y_pred:\n",
        "  if i >= 0.5:\n",
        "    y_pr.append(1)\n",
        "  else:\n",
        "    y_pr.append(0)"
      ],
      "metadata": {
        "id": "XPmZck3UEd2S"
      },
      "execution_count": 65,
      "outputs": []
    },
    {
      "cell_type": "code",
      "source": [
        "y_pr = np.asarray(y_pr)"
      ],
      "metadata": {
        "id": "pUPSi7n-E_k4"
      },
      "execution_count": 66,
      "outputs": []
    },
    {
      "cell_type": "code",
      "source": [
        "df1.MIXA_PASTEUR_STATE.value_counts()"
      ],
      "metadata": {
        "colab": {
          "base_uri": "https://localhost:8080/"
        },
        "id": "gdOYOWqRjmK_",
        "outputId": "0410fb74-6517-47d0-bf53-922bdf954351"
      },
      "execution_count": 67,
      "outputs": [
        {
          "output_type": "execute_result",
          "data": {
            "text/plain": [
              "1    6233\n",
              "0    4814\n",
              "Name: MIXA_PASTEUR_STATE, dtype: int64"
            ]
          },
          "metadata": {},
          "execution_count": 67
        }
      ]
    },
    {
      "cell_type": "code",
      "source": [
        "# 정확도 출력\n",
        "acc = accuracy_score(y_test, y_pr)\n",
        "print('accuracy_score : ',acc)"
      ],
      "metadata": {
        "colab": {
          "base_uri": "https://localhost:8080/"
        },
        "id": "XthsApxcFD_b",
        "outputId": "1b6a394f-6b06-4abc-e33a-2226d25870f7"
      },
      "execution_count": 68,
      "outputs": [
        {
          "output_type": "stream",
          "name": "stdout",
          "text": [
            "accuracy_score :  1.0\n"
          ]
        }
      ]
    },
    {
      "cell_type": "code",
      "source": [
        "# 5. 모델 학습 과정 표시하기\n",
        "plt.plot(history.history['loss'],     label = 'train loss')\n",
        "plt.plot(history.history['val_loss'], label = 'val_loss')\n",
        "plt.xlabel('the number of learning')\n",
        "plt.ylabel('cost')\n",
        "plt.legend()\n",
        "plt.show()"
      ],
      "metadata": {
        "colab": {
          "base_uri": "https://localhost:8080/",
          "height": 279
        },
        "id": "xxg-gp31CBe2",
        "outputId": "d820ca9f-b1e8-4a2e-906d-132106ba8a06"
      },
      "execution_count": 69,
      "outputs": [
        {
          "output_type": "display_data",
          "data": {
            "text/plain": [
              "<Figure size 432x288 with 1 Axes>"
            ],
            "image/png": "[encoded data removed]"
          },
          "metadata": {
            "needs_background": "light"
          }
        }
      ]
    }
  ]
}